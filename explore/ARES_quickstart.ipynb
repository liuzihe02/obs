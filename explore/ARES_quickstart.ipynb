{
 "cells": [
  {
   "cell_type": "code",
   "execution_count": 1,
   "metadata": {},
   "outputs": [
    {
     "data": {
      "text/plain": [
       "True"
      ]
     },
     "execution_count": 1,
     "metadata": {},
     "output_type": "execute_result"
    }
   ],
   "source": [
    "# Optional for UES/IDP, configure API key for desired model(s)\n",
    "from dotenv import load_dotenv\n",
    "\n",
    "load_dotenv()"
   ]
  },
  {
   "cell_type": "markdown",
   "metadata": {},
   "source": [
    "retrieve the UES/IDP scores with GPT3.5"
   ]
  },
  {
   "cell_type": "code",
   "execution_count": 6,
   "metadata": {},
   "outputs": [
    {
     "data": {
      "application/vnd.jupyter.widget-view+json": {
       "model_id": "fe7bd55d377e496a805a98668416020b",
       "version_major": 2,
       "version_minor": 0
      },
      "text/plain": [
       "Evaluating large subset with gpt-3.5-turbo-0125:   0%|          | 0/15 [00:00<?, ?it/s]"
      ]
     },
     "metadata": {},
     "output_type": "display_data"
    },
    {
     "name": "stdout",
     "output_type": "stream",
     "text": [
      "Number of times did not extract Yes or No: 0\n",
      "{'Context Relevance Scores': 0.667, 'Answer Faithfulness Scores': 0.4, 'Answer Relevance Scores': 0.4, 'Raw Scores':     Context_Relevance_Score  Answer_Relevance_Score  Answer_Faithfulness_Score\n",
      "0                         1                       1                          1\n",
      "1                         1                       1                          1\n",
      "2                         0                       0                          0\n",
      "3                         1                       0                          0\n",
      "4                         1                       1                          1\n",
      "5                         1                       1                          1\n",
      "6                         0                       0                          0\n",
      "7                         0                       0                          0\n",
      "8                         1                       0                          0\n",
      "9                         0                       0                          0\n",
      "10                        1                       0                          0\n",
      "11                        0                       0                          0\n",
      "12                        1                       1                          1\n",
      "13                        1                       1                          1\n",
      "14                        1                       0                          0}\n"
     ]
    }
   ],
   "source": [
    "from ares import ARES\n",
    "\n",
    "ues_idp_config = {\n",
    "    \"in_domain_prompts_dataset\": \"../data/ares/example_files/nq_few_shot_prompt_for_judge_scoring.tsv\",\n",
    "    \"unlabeled_evaluation_set\": \"../data/ares/example_files/nq_output_15samples.tsv\",\n",
    "    \"model_choice\": \"gpt-3.5-turbo-0125\",\n",
    "}\n",
    "\n",
    "# uses fewshot examples from IDS\n",
    "# uses prompt template for CR, AF, AR\n",
    "# attaches the prompt template and few shot to get the relevant metrics\n",
    "ares = ARES(ues_idp=ues_idp_config)\n",
    "results = ares.ues_idp()\n",
    "print(results)\n",
    "\n",
    "# note i had to modify the source code to return the raw scores too!\n",
    "\n",
    "# {'Context Relevance Scores': [Score], 'Answer Faithfulness Scores': [Score], 'Answer Relevance Scores': [Score]}"
   ]
  },
  {
   "cell_type": "markdown",
   "metadata": {},
   "source": [
    "retrieve PPI scores"
   ]
  },
  {
   "cell_type": "code",
   "execution_count": null,
   "metadata": {},
   "outputs": [
    {
     "name": "stdout",
     "output_type": "stream",
     "text": [
      "--------------------------------------------------------\n",
      "Evaluation Sets: ['../data/ares/example_files/nq_output_15samples.tsv']\n",
      "Checkpoints: ['../models/ares/checkpoints/microsoft-deberta-v3-large/Context_Relevance_Label_joint_trained_date_time.pt']\n",
      "Labels: ['Context_Relevance_Label']\n",
      "--------------------------------------------------------\n"
     ]
    },
    {
     "name": "stderr",
     "output_type": "stream",
     "text": [
      "/home/flowingpurplecrane/obs-all/obs/venv/lib/python3.10/site-packages/huggingface_hub/file_download.py:795: FutureWarning: `resume_download` is deprecated and will be removed in version 1.0.0. Downloads always resume when possible. If you want to force a new download, use `force_download=True`.\n",
      "  warnings.warn(\n",
      "/home/flowingpurplecrane/obs-all/obs/venv/lib/python3.10/site-packages/ares/RAG_Automatic_Evaluation/LLMJudge_RAG_Compared_Scoring.py:577: FutureWarning: You are using `torch.load` with `weights_only=False` (the current default value), which uses the default pickle module implicitly. It is possible to construct malicious pickle data which will execute arbitrary code during unpickling (See https://github.com/pytorch/pytorch/blob/main/SECURITY.md#untrusted-models for more details). In a future release, the default value for `weights_only` will be flipped to `True`. This limits the functions that could be executed during unpickling. Arbitrary objects will no longer be allowed to be loaded via this mode unless they are explicitly allowlisted by the user via `torch.serialization.add_safe_globals`. We recommend you start setting `weights_only=True` for any use case where you don't have full control of the loaded file. Please open an issue on GitHub for any issues related to this experimental feature.\n",
      "  checkpoint_dict = torch.load(checkpoint)\n"
     ]
    },
    {
     "name": "stdout",
     "output_type": "stream",
     "text": [
      "Loaded model from checkpoint: ../models/ares/checkpoints/microsoft-deberta-v3-large/Context_Relevance_Label_joint_trained_date_time.pt\n"
     ]
    },
    {
     "name": "stderr",
     "output_type": "stream",
     "text": [
      "                                                           \r"
     ]
    },
    {
     "name": "stdout",
     "output_type": "stream",
     "text": [
      "total predictions are tensor([1., 0., 0., 0., 0., 1., 0., 0., 1., 1., 1., 1.], device='cuda:0')\n",
      "total references are tensor([1., 1., 0., 1., 1., 1., 0., 0., 0., 1., 1., 1.], device='cuda:0')\n"
     ]
    },
    {
     "name": "stderr",
     "output_type": "stream",
     "text": [
      "Trials:   0%|          | 0/1000 [00:00<?, ?it/s]        /home/flowingpurplecrane/obs-all/obs/venv/lib/python3.10/site-packages/ares/RAG_Automatic_Evaluation/ppi.py:81: RuntimeWarning: Mean of empty slice.\n",
      "  rechat = (Yhat_labeled - Y_labeled).mean()\n",
      "/home/flowingpurplecrane/obs-all/obs/venv/lib/python3.10/site-packages/numpy/core/_methods.py:129: RuntimeWarning: invalid value encountered in scalar divide\n",
      "  ret = ret.dtype.type(ret / rcount)\n",
      "/home/flowingpurplecrane/obs-all/obs/venv/lib/python3.10/site-packages/numpy/core/_methods.py:206: RuntimeWarning: Degrees of freedom <= 0 for slice\n",
      "  ret = _var(a, axis=axis, dtype=dtype, out=out, ddof=ddof,\n",
      "/home/flowingpurplecrane/obs-all/obs/venv/lib/python3.10/site-packages/numpy/core/_methods.py:163: RuntimeWarning: invalid value encountered in divide\n",
      "  arrmean = um.true_divide(arrmean, div, out=arrmean,\n",
      "/home/flowingpurplecrane/obs-all/obs/venv/lib/python3.10/site-packages/numpy/core/_methods.py:198: RuntimeWarning: invalid value encountered in scalar divide\n",
      "  ret = ret.dtype.type(ret / rcount)\n",
      "Trials: 100%|██████████| 1000/1000 [00:20<00:00, 47.71it/s]"
     ]
    },
    {
     "name": "stdout",
     "output_type": "stream",
     "text": [
      "--------------------------------------------------\n",
      "Context_Relevance_Label Scoring\n",
      "ARES Ranking\n",
      "Evaluation_Set:../data/ares/example_files/nq_output_15samples.tsv\n",
      "Checkpoint:../models/ares/checkpoints/microsoft-deberta-v3-large/Context_Relevance_Label_joint_trained_date_time.pt\n",
      "ARES Prediction: [0.6666666666666795]\n",
      "ARES Confidence Interval: [[0.245, 1.088]]\n",
      "Number of Examples in Evaluation Set: [12]\n",
      "Ground Truth Performance: [0.667]\n",
      "ARES LLM Judge Accuracy on Ground Truth Labels: [0.667]\n",
      "Annotated Examples used for PPI: 12\n",
      "--------------------------------------------------\n",
      "\n",
      "[{'Label_Column': 'Context_Relevance_Label', 'Evaluation_Set': '../data/ares/example_files/nq_output_15samples.tsv', 'ARES_Prediction': 0.6666666666666795, 'ARES_Confidence_Interval': [0.245, 1.088], 'Number_of_Examples_in_Evaluation_Set': 12, 'Ground_Truth_Performance': 0.667, 'ARES_LLM_Judge_Accuracy_on_Ground_Truth_Labels': 0.667, 'Annotated_Examples_used_for_PPI': 12}]\n"
     ]
    },
    {
     "name": "stderr",
     "output_type": "stream",
     "text": [
      "\n"
     ]
    }
   ],
   "source": [
    "# ppi_config = {\n",
    "#     \"evaluation_datasets\": [\"../data/ares/example_files/nq_output_15samples.tsv\"],\n",
    "#     \"few_shot_examples_filepath\": \"../data/ares/example_files/nq_few_shot_prompt_for_judge_scoring.tsv\",\n",
    "#     \"llm_judge\": \"gpt-3.5-turbo-1106\",\n",
    "#     \"labels\": [\"Context_Relevance_Label\"],\n",
    "#     \"gold_label_paths\": [\"../data/ares/example_files/nq_output_15samples.tsv\"],\n",
    "#     \"checkpoints\": [],\n",
    "# }\n",
    "\n",
    "ppi_config = {\n",
    "    \"evaluation_datasets\": [\"../data/ares/example_files/nq_output_15samples.tsv\"],\n",
    "    \"checkpoints\": [\n",
    "        \"../models/ares/checkpoints/microsoft-deberta-v3-large/Context_Relevance_Label_joint_trained_date_time.pt\"\n",
    "    ],\n",
    "    \"rag_type\": \"question_answering\",\n",
    "    \"labels\": [\"Context_Relevance_Label\"],\n",
    "    # we actually need the gold labels too\n",
    "    \"gold_label_paths\": [\"../data/ares/example_files/nq_output_15samples.tsv\"],\n",
    "}\n",
    "\n",
    "ares = ARES(ppi=ppi_config)\n",
    "results = ares.evaluate_RAG()\n",
    "print(results)"
   ]
  },
  {
   "cell_type": "code",
   "execution_count": 4,
   "metadata": {},
   "outputs": [
    {
     "name": "stdout",
     "output_type": "stream",
     "text": [
      "\n",
      "Unlabeled evaluation set:\n",
      "Shape: (15, 12)\n",
      "Columns: Index(['id', 'input', 'meta', 'output', 'wikipedia_id', 'Document',\n",
      "       'paragraph_number', 'Answer', 'Query', 'Context_Relevance_Label',\n",
      "       'Answer_Faithfulness_Label', 'Answer_Relevance_Label'],\n",
      "      dtype='object')\n",
      "\n",
      "First few rows:\n",
      "                    id                                                  input  \\\n",
      "0 -6371603500131574271  who sings somebody's watching me with michael jackson   \n",
      "1  6860341019198485637             who cracked the enigma code in world war 2   \n",
      "\n",
      "                                                                                                                                                                                                                                                                            meta  \\\n",
      "0  {'left_context': '', 'mention': '', 'right_context': '', 'partial_evidence': array([], dtype=object), 'obj_surface': array([], dtype=object), 'sub_surface': array([], dtype=object), 'subj_aliases': array([], dtype=object), 'template_questions': array([], dtype=object)}   \n",
      "1  {'left_context': '', 'mention': '', 'right_context': '', 'partial_evidence': array([], dtype=object), 'obj_surface': array([], dtype=object), 'sub_surface': array([], dtype=object), 'subj_aliases': array([], dtype=object), 'template_questions': array([], dtype=object)}   \n",
      "\n",
      "                                                                                                                                                                                                                                                                                                                                                                                                                                                                                                                                                                                                                                                                                                                                                                                                                                                                                                                                                                                                                                                                                                                                                                                                                                                                                                                                                                                                                                                                                                                                                                                                                                                                                                                                                                                                                                                                                                                                                                                                                                                                                                                                                                                                                                                                                                                                                                                                                                                                                                                                                                                                                                                                                                                                                                                                                                                                                                                                                                                                                                                                                                                                                                                                                                                                                                                                                                                                                                                                                                                                                                                                                                                                                                                                                                                                                                                                                                                                                                                                                                                                                                                                                                                                                                                                                                                                                                                                                                                                                                                                                                                                                                                                                                                                                                                                                                                                                                                                                                                                                                                                                                                                                                                                                                                                                                                                                                                                                                                                                                                                                                                                                                                                                                                                                                                                                                                                                                                                                                                                output  \\\n",
      "0  [{'answer': 'Rockwell', 'meta': {'score': -1}, 'provenance': array([{'bleu_score': 1.0, 'start_character': 63, 'start_paragraph_id': 1, 'end_character': 71, 'end_paragraph_id': 1, 'meta': {'fever_page_id': '', 'fever_sentence_id': -1, 'annotation_id': '-1', 'yes_no_answer': '', 'evidence_span': array([], dtype=object)}, 'section': 'Section::::Abstract.', 'title': \"Somebody's Watching Me\", 'wikipedia_id': '1551152'}],\\n       dtype=object)}\\n {'answer': 'Jermaine Jackson', 'meta': {'score': -1}, 'provenance': array([{'bleu_score': 1.0, 'start_character': 288, 'start_paragraph_id': 1, 'end_character': 304, 'end_paragraph_id': 1, 'meta': {'fever_page_id': '', 'fever_sentence_id': -1, 'annotation_id': '-1', 'yes_no_answer': '', 'evidence_span': array([], dtype=object)}, 'section': 'Section::::Abstract.', 'title': \"Somebody's Watching Me\", 'wikipedia_id': '1551152'}],\\n       dtype=object)}\\n {'answer': '', 'meta': {'score': -1}, 'provenance': array([{'bleu_score': -1.0, 'start_character': -1, 'start_paragraph_id': 1, 'end_character': -1, 'end_paragraph_id': 1, 'meta': {'fever_page_id': '', 'fever_sentence_id': -1, 'annotation_id': '-1', 'yes_no_answer': '', 'evidence_span': array(['\"Somebody\\'s Watching Me\" is a song recorded by American singer Rockwell, released by the Motown label in 1984, as the lead single from his debut studio album of the same name. Rockwell\\'s debut single release, the song features guest vocals by brothers Michael Jackson (in the chorus) and Jermaine Jackson (additional backing vocals).',\\n               '\"Somebody\\'s Watching Me\" is a song recorded by American singer Rockwell, released by the Motown label in 1984, as the lead single from his debut studio album of the same name. Rockwell\\'s debut single release, the song features guest vocals by brothers Michael Jackson (in the chorus) and Jermaine Jackson (additional backing vocals).',\\n               \"Rockwell's debut single release, the song features guest vocals by brothers Michael Jackson (in the chorus) and Jermaine Jackson (additional backing vocals).\"],\\n              dtype=object)}, 'section': 'Section::::Abstract.', 'title': \"Somebody's Watching Me\", 'wikipedia_id': '1551152'}                                                                                                                                                                                                                                                                                                                                                                                                                                                                        ],\\n       dtype=object)}\\n {'answer': '', 'meta': {'score': -1}, 'provenance': array([{'bleu_score': -1.0, 'start_character': -1, 'start_paragraph_id': 6, 'end_character': -1, 'end_paragraph_id': 6, 'meta': {'fever_page_id': '', 'fever_sentence_id': -1, 'annotation_id': '-1', 'yes_no_answer': '', 'evidence_span': array(['young Gordy agreed to the change because he believed he \"rocked well.\" In 1984, Rockwell had his biggest single, \"Somebody\\'s Watching Me\", with childhood friend Michael Jackson singing the chorus lyrics and Jermaine Jackson singing back-up. \"Somebody\\'s Watching Me\" became a Gold-certified million selling #2 song in the US, which also peaked at #6 in the UK. It held #1 on Billboard\\'s R&B chart for five weeks. Follow-up singles underperformed, with \"Obscene Phone Caller\" being Rockwell\\'s only other Top 40 single. It reached #35 on the Billboard Hot 100. Rockwell released two more albums before ending his musical career with Motown.',\\n               '\" In 1984, Rockwell had his biggest single, \"Somebody\\'s Watching Me\", with childhood friend Michael Jackson singing the chorus lyrics and Jermaine Jackson singing back-up.',\\n               'Rockwell had his biggest single, \"Somebody\\'s Watching Me\", with childhood friend Michael Jackson'],\\n              dtype=object)}, 'section': 'Section::::Career.\\n', 'title': 'Rockwell (musician)', 'wikipedia_id': '1416260'}                                                                                                                                                                                                                                                                                                                                                                                                                                                                                                                                                                                                                                                                                                                                                                                             ],\\n       dtype=object)}                                                                                                                                                                                                                                                                                                                                                                                                                                                                                                                                                                                                                                                                                                                                                                                                                                                                                                                                                       ]   \n",
      "1                                                                                                                                                                                                                                                                                                                                                                                                                                                                                                                                                                                                                                                                                                                                                                                                                                                                                                                                                                                                                                                                                                                                                                                                                                                                                                                                                                                                                                                                                                                                                                                                                                                                                                                                                                                                                                                                                                                                                                                                                                                                                                                                                                                                                                                                                                                                                                                                                                                                                                                                                                                                                                                                                                                                                                                                                                                                                                       [{'answer': 'Turing', 'meta': {'score': -1}, 'provenance': array([{'bleu_score': 1.0, 'start_character': 5, 'start_paragraph_id': 0, 'end_character': 11, 'end_paragraph_id': 0, 'meta': {'fever_page_id': '', 'fever_sentence_id': -1, 'annotation_id': '-1', 'yes_no_answer': '', 'evidence_span': array([], dtype=object)}, 'section': 'Section::::Abstract.', 'title': 'Alan Turing', 'wikipedia_id': '1208'}],\\n       dtype=object)}\\n {'answer': '', 'meta': {'score': -1}, 'provenance': array([{'bleu_score': 1.0, 'start_character': 0, 'start_paragraph_id': 0, 'end_character': 0, 'end_paragraph_id': 0, 'meta': {'fever_page_id': '', 'fever_sentence_id': -1, 'annotation_id': '7963805335154000899', 'yes_no_answer': 'NONE', 'evidence_span': array([], dtype=object)}, 'section': 'Section::::Abstract.', 'title': 'Alan Turing', 'wikipedia_id': '1208'}],\\n       dtype=object)}\\n {'answer': '', 'meta': {'score': -1}, 'provenance': array([{'bleu_score': -1.0, 'start_character': -1, 'start_paragraph_id': 4, 'end_character': -1, 'end_paragraph_id': 4, 'meta': {'fever_page_id': '', 'fever_sentence_id': -1, 'annotation_id': '-1', 'yes_no_answer': '', 'evidence_span': array(['Turing',\\n               'Alan Turing, a Cambridge University mathematician and logician, provided much of the original thinking that led to the design of the cryptanalytical bombe machines that were instrumental in eventually breaking the naval Enigma'],\\n              dtype=object)}, 'section': 'Section::::Abstract.', 'title': 'Cryptanalysis of the Enigma', 'wikipedia_id': '872175'}                                                                                                                           ],\\n       dtype=object)}\\n {'answer': '', 'meta': {'score': -1}, 'provenance': array([{'bleu_score': -1.0, 'start_character': -1, 'start_paragraph_id': 1, 'end_character': -1, 'end_paragraph_id': 1, 'meta': {'fever_page_id': '', 'fever_sentence_id': -1, 'annotation_id': '-1', 'yes_no_answer': '', 'evidence_span': array(['Turing',\\n               'Alan Turing: The Enigma (1983) is a biography of the British mathematician, codebreaker, and early computer scientist, Alan Turing (19121954) by Andrew Hodges. The book covers Alan Turing\\'s life and work. The American 2014 film \"The Imitation Game\" is loosely based on the book, with dramatization.'],\\n              dtype=object)}, 'section': 'Section::::Abstract.', 'title': 'Alan Turing: The Enigma', 'wikipedia_id': '54756168'}                                                                                                                                                                                              ],\\n       dtype=object)}                                                                                                                                                                                                                                                                                                           ]   \n",
      "\n",
      "   wikipedia_id  \\\n",
      "0       1551152   \n",
      "1          1208   \n",
      "\n",
      "                                                                                                                                                                                                                                                                                                                                          Document  \\\n",
      "0  \"Somebody's Watching Me\" is a song recorded by American singer Rockwell, released by the Motown label in 1984, as the lead single from his debut studio album of the same name. Rockwell's debut single release, the song features guest vocals by brothers Michael Jackson (in the chorus) and Jermaine Jackson (additional backing vocals).\\n   \n",
      "1                                                                                                                                                                                                                                                                                                                                    Alan Turing\\n   \n",
      "\n",
      "   paragraph_number    Answer  \\\n",
      "0               1.0  Rockwell   \n",
      "1               0.0    Turing   \n",
      "\n",
      "                                                   Query  \\\n",
      "0  who sings somebody's watching me with michael jackson   \n",
      "1             who cracked the enigma code in world war 2   \n",
      "\n",
      "   Context_Relevance_Label  Answer_Faithfulness_Label  Answer_Relevance_Label  \n",
      "0                      1.0                        1.0                     1.0  \n",
      "1                      1.0                        1.0                     1.0  \n"
     ]
    }
   ],
   "source": [
    "import pandas as pd\n",
    "\n",
    "# Read the unlabeled evaluation set\n",
    "eval_df = pd.read_csv(\"../data/ares/example_files/nq_output_15samples.tsv\", sep=\"\\t\")\n",
    "\n",
    "# # Basic exploration\n",
    "# print(\"\\nFew-shot prompts file:\")\n",
    "# print(\"Shape:\", prompts_df.shape)\n",
    "# print(\"Columns:\", prompts_df.columns)\n",
    "# print(\"\\nFirst few rows:\")\n",
    "# print(prompts_df.head())\n",
    "\n",
    "print(\"\\nUnlabeled evaluation set:\")\n",
    "print(\"Shape:\", eval_df.shape)\n",
    "print(\"Columns:\", eval_df.columns)\n",
    "print(\"\\nFirst few rows:\")\n",
    "print(eval_df.head(2))"
   ]
  }
 ],
 "metadata": {
  "kernelspec": {
   "display_name": "venv",
   "language": "python",
   "name": "python3"
  },
  "language_info": {
   "codemirror_mode": {
    "name": "ipython",
    "version": 3
   },
   "file_extension": ".py",
   "mimetype": "text/x-python",
   "name": "python",
   "nbconvert_exporter": "python",
   "pygments_lexer": "ipython3",
   "version": "3.10.12"
  }
 },
 "nbformat": 4,
 "nbformat_minor": 2
}
