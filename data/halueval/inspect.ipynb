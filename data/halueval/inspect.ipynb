{
 "cells": [
  {
   "cell_type": "markdown",
   "metadata": {},
   "source": [
    "Inspect data"
   ]
  },
  {
   "cell_type": "code",
   "execution_count": 1,
   "metadata": {},
   "outputs": [],
   "source": [
    "from datasets import load_dataset\n",
    "\n",
    "qa_data = load_dataset(\"json\", data_files=\"qa_data.json\")\n"
   ]
  },
  {
   "cell_type": "code",
   "execution_count": 6,
   "metadata": {},
   "outputs": [
    {
     "name": "stdout",
     "output_type": "stream",
     "text": [
      "{'knowledge': 'The Oberoi family is an Indian family that is famous for its involvement in hotels, namely through The Oberoi Group.The Oberoi Group is a hotel company with its head office in Delhi.', 'question': 'The Oberoi family is part of a hotel company that has a head office in what city?', 'right_answer': 'Delhi', 'hallucinated_answer': \"The Oberoi family's hotel company is based in Mumbai.\"}\n"
     ]
    }
   ],
   "source": [
    "print(qa_data[\"train\"][1])"
   ]
  },
  {
   "cell_type": "code",
   "execution_count": 7,
   "metadata": {},
   "outputs": [
    {
     "name": "stderr",
     "output_type": "stream",
     "text": [
      "Generating train split: 4507 examples [00:00, 436162.71 examples/s]\n"
     ]
    }
   ],
   "source": [
    "general_data = load_dataset(\"json\", data_files=\"general_data.json\")"
   ]
  },
  {
   "cell_type": "code",
   "execution_count": 10,
   "metadata": {},
   "outputs": [
    {
     "name": "stdout",
     "output_type": "stream",
     "text": [
      "{'ID': '2', 'user_query': 'Provide a few examples of homophones.', 'chatgpt_response': '1. allowed (permitted) and aloud (out loud)\\n2. weather (condition of the atmosphere) and whether (expressing a doubt or choice)\\n3. gate (entrance) and gait (way of walking)\\n4. their (belonging to them) and there (in that place)\\n5. pair (two of a kind) and pear (a fruit)\\n6. hear (to perceive sound) and here (in this place)\\n7. to (preposition indicating direction or action) and too (also, very)\\n8. knight (medieval soldier) and night (period of darkness)\\n9. sale (discounted price) and sail (propelling a boat)\\n10. here (in this place) and hear (perceive sound)', 'hallucination': 'yes', 'hallucination_spans': ['6. hear (to perceive sound) and here (in this place)\\n10. here (in this place) and hear (perceive sound)']}\n"
     ]
    }
   ],
   "source": [
    "print(general_data[\"train\"][1])"
   ]
  }
 ],
 "metadata": {
  "kernelspec": {
   "display_name": "venv",
   "language": "python",
   "name": "python3"
  },
  "language_info": {
   "codemirror_mode": {
    "name": "ipython",
    "version": 3
   },
   "file_extension": ".py",
   "mimetype": "text/x-python",
   "name": "python",
   "nbconvert_exporter": "python",
   "pygments_lexer": "ipython3",
   "version": "3.10.12"
  }
 },
 "nbformat": 4,
 "nbformat_minor": 2
}
